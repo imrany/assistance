{
 "cells": [
  {
   "cell_type": "code",
   "execution_count": 1,
   "id": "according-synthetic",
   "metadata": {
    "execution": {
     "iopub.execute_input": "2021-06-26T07:39:16.084744Z",
     "iopub.status.busy": "2021-06-26T07:39:16.084131Z",
     "iopub.status.idle": "2021-06-26T07:39:17.882625Z",
     "shell.execute_reply": "2021-06-26T07:39:17.881539Z",
     "shell.execute_reply.started": "2021-06-26T07:15:59.058039Z"
    },
    "papermill": {
     "duration": 1.820434,
     "end_time": "2021-06-26T07:39:17.882886",
     "exception": false,
     "start_time": "2021-06-26T07:39:16.062452",
     "status": "completed"
    },
    "tags": []
   },
   "outputs": [],
   "source": [
    "import pandas as pd\n",
    "import numpy as np\n",
    "import string\n",
    "from nltk.tokenize import word_tokenize\n",
    "from nltk.stem import WordNetLemmatizer\n",
    "from nltk.corpus import stopwords\n",
    "from nltk.corpus import wordnet\n",
    "from nltk import pos_tag\n",
    "from sklearn.feature_extraction.text import TfidfVectorizer\n",
    "from sklearn.metrics.pairwise import cosine_similarity"
   ]
  },
  {
   "cell_type": "code",
   "execution_count": 2,
   "id": "superb-regard",
   "metadata": {
    "execution": {
     "iopub.execute_input": "2021-06-26T07:39:17.935084Z",
     "iopub.status.busy": "2021-06-26T07:39:17.934388Z",
     "iopub.status.idle": "2021-06-26T07:39:17.996592Z",
     "shell.execute_reply": "2021-06-26T07:39:17.995988Z",
     "shell.execute_reply.started": "2021-06-26T07:16:00.760493Z"
    },
    "papermill": {
     "duration": 0.091796,
     "end_time": "2021-06-26T07:39:17.996728",
     "exception": false,
     "start_time": "2021-06-26T07:39:17.904932",
     "status": "completed"
    },
    "tags": []
   },
   "outputs": [],
   "source": [
    "df1 = pd.read_csv('../input/questionanswer-dataset/S08_question_answer_pairs.txt', sep='\\t')\n",
    "df2 = pd.read_csv('../input/questionanswer-dataset/S09_question_answer_pairs.txt', sep='\\t')\n",
    "df3 = pd.read_csv('../input/questionanswer-dataset/S10_question_answer_pairs.txt', sep='\\t', encoding = 'ISO-8859-1')"
   ]
  },
  {
   "cell_type": "code",
   "execution_count": 3,
   "id": "artistic-championship",
   "metadata": {
    "execution": {
     "iopub.execute_input": "2021-06-26T07:39:18.040223Z",
     "iopub.status.busy": "2021-06-26T07:39:18.039168Z",
     "iopub.status.idle": "2021-06-26T07:39:18.064092Z",
     "shell.execute_reply": "2021-06-26T07:39:18.063544Z",
     "shell.execute_reply.started": "2021-06-26T07:16:00.818298Z"
    },
    "papermill": {
     "duration": 0.052706,
     "end_time": "2021-06-26T07:39:18.064227",
     "exception": false,
     "start_time": "2021-06-26T07:39:18.011521",
     "status": "completed"
    },
    "tags": []
   },
   "outputs": [
    {
     "data": {
      "text/html": [
       "<div>\n",
       "<style scoped>\n",
       "    .dataframe tbody tr th:only-of-type {\n",
       "        vertical-align: middle;\n",
       "    }\n",
       "\n",
       "    .dataframe tbody tr th {\n",
       "        vertical-align: top;\n",
       "    }\n",
       "\n",
       "    .dataframe thead th {\n",
       "        text-align: right;\n",
       "    }\n",
       "</style>\n",
       "<table border=\"1\" class=\"dataframe\">\n",
       "  <thead>\n",
       "    <tr style=\"text-align: right;\">\n",
       "      <th></th>\n",
       "      <th>ArticleTitle</th>\n",
       "      <th>Question</th>\n",
       "      <th>Answer</th>\n",
       "      <th>DifficultyFromQuestioner</th>\n",
       "      <th>DifficultyFromAnswerer</th>\n",
       "      <th>ArticleFile</th>\n",
       "    </tr>\n",
       "  </thead>\n",
       "  <tbody>\n",
       "    <tr>\n",
       "      <th>0</th>\n",
       "      <td>Abraham_Lincoln</td>\n",
       "      <td>Was Abraham Lincoln the sixteenth President of...</td>\n",
       "      <td>yes</td>\n",
       "      <td>easy</td>\n",
       "      <td>easy</td>\n",
       "      <td>S08_set3_a4</td>\n",
       "    </tr>\n",
       "    <tr>\n",
       "      <th>1</th>\n",
       "      <td>Abraham_Lincoln</td>\n",
       "      <td>Was Abraham Lincoln the sixteenth President of...</td>\n",
       "      <td>Yes.</td>\n",
       "      <td>easy</td>\n",
       "      <td>easy</td>\n",
       "      <td>S08_set3_a4</td>\n",
       "    </tr>\n",
       "    <tr>\n",
       "      <th>2</th>\n",
       "      <td>Abraham_Lincoln</td>\n",
       "      <td>Did Lincoln sign the National Banking Act of 1...</td>\n",
       "      <td>yes</td>\n",
       "      <td>easy</td>\n",
       "      <td>medium</td>\n",
       "      <td>S08_set3_a4</td>\n",
       "    </tr>\n",
       "    <tr>\n",
       "      <th>3</th>\n",
       "      <td>Abraham_Lincoln</td>\n",
       "      <td>Did Lincoln sign the National Banking Act of 1...</td>\n",
       "      <td>Yes.</td>\n",
       "      <td>easy</td>\n",
       "      <td>easy</td>\n",
       "      <td>S08_set3_a4</td>\n",
       "    </tr>\n",
       "    <tr>\n",
       "      <th>4</th>\n",
       "      <td>Abraham_Lincoln</td>\n",
       "      <td>Did his mother die of pneumonia?</td>\n",
       "      <td>no</td>\n",
       "      <td>easy</td>\n",
       "      <td>medium</td>\n",
       "      <td>S08_set3_a4</td>\n",
       "    </tr>\n",
       "    <tr>\n",
       "      <th>5</th>\n",
       "      <td>Abraham_Lincoln</td>\n",
       "      <td>Did his mother die of pneumonia?</td>\n",
       "      <td>No.</td>\n",
       "      <td>easy</td>\n",
       "      <td>easy</td>\n",
       "      <td>S08_set3_a4</td>\n",
       "    </tr>\n",
       "    <tr>\n",
       "      <th>6</th>\n",
       "      <td>Abraham_Lincoln</td>\n",
       "      <td>How many long was Lincoln's formal education?</td>\n",
       "      <td>18 months</td>\n",
       "      <td>medium</td>\n",
       "      <td>easy</td>\n",
       "      <td>S08_set3_a4</td>\n",
       "    </tr>\n",
       "    <tr>\n",
       "      <th>7</th>\n",
       "      <td>Abraham_Lincoln</td>\n",
       "      <td>How many long was Lincoln's formal education?</td>\n",
       "      <td>18 months.</td>\n",
       "      <td>medium</td>\n",
       "      <td>medium</td>\n",
       "      <td>S08_set3_a4</td>\n",
       "    </tr>\n",
       "    <tr>\n",
       "      <th>8</th>\n",
       "      <td>Abraham_Lincoln</td>\n",
       "      <td>When did Lincoln begin his political career?</td>\n",
       "      <td>1832</td>\n",
       "      <td>medium</td>\n",
       "      <td>easy</td>\n",
       "      <td>S08_set3_a4</td>\n",
       "    </tr>\n",
       "    <tr>\n",
       "      <th>9</th>\n",
       "      <td>Abraham_Lincoln</td>\n",
       "      <td>When did Lincoln begin his political career?</td>\n",
       "      <td>1832.</td>\n",
       "      <td>medium</td>\n",
       "      <td>medium</td>\n",
       "      <td>S08_set3_a4</td>\n",
       "    </tr>\n",
       "    <tr>\n",
       "      <th>10</th>\n",
       "      <td>Abraham_Lincoln</td>\n",
       "      <td>What did The Legal Tender Act of 1862 establish?</td>\n",
       "      <td>the United States Note, the first paper curren...</td>\n",
       "      <td>medium</td>\n",
       "      <td>easy</td>\n",
       "      <td>S08_set3_a4</td>\n",
       "    </tr>\n",
       "    <tr>\n",
       "      <th>11</th>\n",
       "      <td>Abraham_Lincoln</td>\n",
       "      <td>What did The Legal Tender Act of 1862 establish?</td>\n",
       "      <td>The United States Note, the first paper curren...</td>\n",
       "      <td>medium</td>\n",
       "      <td>medium</td>\n",
       "      <td>S08_set3_a4</td>\n",
       "    </tr>\n",
       "    <tr>\n",
       "      <th>12</th>\n",
       "      <td>Abraham_Lincoln</td>\n",
       "      <td>Who suggested Lincoln grow a beard?</td>\n",
       "      <td>11-year-old Grace Bedell</td>\n",
       "      <td>hard</td>\n",
       "      <td>medium</td>\n",
       "      <td>S08_set3_a4</td>\n",
       "    </tr>\n",
       "    <tr>\n",
       "      <th>13</th>\n",
       "      <td>Abraham_Lincoln</td>\n",
       "      <td>Who suggested Lincoln grow a beard?</td>\n",
       "      <td>Grace Bedell.</td>\n",
       "      <td>hard</td>\n",
       "      <td>medium</td>\n",
       "      <td>S08_set3_a4</td>\n",
       "    </tr>\n",
       "    <tr>\n",
       "      <th>14</th>\n",
       "      <td>Abraham_Lincoln</td>\n",
       "      <td>When did the Gettysburg address argue that Ame...</td>\n",
       "      <td>1776</td>\n",
       "      <td>hard</td>\n",
       "      <td>hard</td>\n",
       "      <td>S08_set3_a4</td>\n",
       "    </tr>\n",
       "    <tr>\n",
       "      <th>15</th>\n",
       "      <td>Abraham_Lincoln</td>\n",
       "      <td>When did the Gettysburg address argue that Ame...</td>\n",
       "      <td>1776.</td>\n",
       "      <td>hard</td>\n",
       "      <td>hard</td>\n",
       "      <td>S08_set3_a4</td>\n",
       "    </tr>\n",
       "    <tr>\n",
       "      <th>16</th>\n",
       "      <td>Abraham_Lincoln</td>\n",
       "      <td>Did Lincoln beat John C. Breckinridge in the 1...</td>\n",
       "      <td>yes</td>\n",
       "      <td>hard</td>\n",
       "      <td>medium</td>\n",
       "      <td>S08_set3_a4</td>\n",
       "    </tr>\n",
       "    <tr>\n",
       "      <th>17</th>\n",
       "      <td>Abraham_Lincoln</td>\n",
       "      <td>Did Lincoln beat John C. Breckinridge in the 1...</td>\n",
       "      <td>Yes.</td>\n",
       "      <td>hard</td>\n",
       "      <td>hard</td>\n",
       "      <td>S08_set3_a4</td>\n",
       "    </tr>\n",
       "    <tr>\n",
       "      <th>18</th>\n",
       "      <td>Abraham_Lincoln</td>\n",
       "      <td>Was Abraham Lincoln the first President of the...</td>\n",
       "      <td>No</td>\n",
       "      <td>easy</td>\n",
       "      <td>easy</td>\n",
       "      <td>S08_set3_a4</td>\n",
       "    </tr>\n",
       "    <tr>\n",
       "      <th>19</th>\n",
       "      <td>Abraham_Lincoln</td>\n",
       "      <td>Was Abraham Lincoln the first President of the...</td>\n",
       "      <td>No</td>\n",
       "      <td>easy</td>\n",
       "      <td>medium</td>\n",
       "      <td>S08_set3_a4</td>\n",
       "    </tr>\n",
       "  </tbody>\n",
       "</table>\n",
       "</div>"
      ],
      "text/plain": [
       "       ArticleTitle                                           Question  \\\n",
       "0   Abraham_Lincoln  Was Abraham Lincoln the sixteenth President of...   \n",
       "1   Abraham_Lincoln  Was Abraham Lincoln the sixteenth President of...   \n",
       "2   Abraham_Lincoln  Did Lincoln sign the National Banking Act of 1...   \n",
       "3   Abraham_Lincoln  Did Lincoln sign the National Banking Act of 1...   \n",
       "4   Abraham_Lincoln                   Did his mother die of pneumonia?   \n",
       "5   Abraham_Lincoln                   Did his mother die of pneumonia?   \n",
       "6   Abraham_Lincoln      How many long was Lincoln's formal education?   \n",
       "7   Abraham_Lincoln      How many long was Lincoln's formal education?   \n",
       "8   Abraham_Lincoln       When did Lincoln begin his political career?   \n",
       "9   Abraham_Lincoln       When did Lincoln begin his political career?   \n",
       "10  Abraham_Lincoln   What did The Legal Tender Act of 1862 establish?   \n",
       "11  Abraham_Lincoln   What did The Legal Tender Act of 1862 establish?   \n",
       "12  Abraham_Lincoln                Who suggested Lincoln grow a beard?   \n",
       "13  Abraham_Lincoln                Who suggested Lincoln grow a beard?   \n",
       "14  Abraham_Lincoln  When did the Gettysburg address argue that Ame...   \n",
       "15  Abraham_Lincoln  When did the Gettysburg address argue that Ame...   \n",
       "16  Abraham_Lincoln  Did Lincoln beat John C. Breckinridge in the 1...   \n",
       "17  Abraham_Lincoln  Did Lincoln beat John C. Breckinridge in the 1...   \n",
       "18  Abraham_Lincoln  Was Abraham Lincoln the first President of the...   \n",
       "19  Abraham_Lincoln  Was Abraham Lincoln the first President of the...   \n",
       "\n",
       "                                               Answer  \\\n",
       "0                                                 yes   \n",
       "1                                                Yes.   \n",
       "2                                                 yes   \n",
       "3                                                Yes.   \n",
       "4                                                  no   \n",
       "5                                                 No.   \n",
       "6                                           18 months   \n",
       "7                                          18 months.   \n",
       "8                                                1832   \n",
       "9                                               1832.   \n",
       "10  the United States Note, the first paper curren...   \n",
       "11  The United States Note, the first paper curren...   \n",
       "12                           11-year-old Grace Bedell   \n",
       "13                                      Grace Bedell.   \n",
       "14                                               1776   \n",
       "15                                              1776.   \n",
       "16                                                yes   \n",
       "17                                               Yes.   \n",
       "18                                                 No   \n",
       "19                                                 No   \n",
       "\n",
       "   DifficultyFromQuestioner DifficultyFromAnswerer  ArticleFile  \n",
       "0                      easy                   easy  S08_set3_a4  \n",
       "1                      easy                   easy  S08_set3_a4  \n",
       "2                      easy                 medium  S08_set3_a4  \n",
       "3                      easy                   easy  S08_set3_a4  \n",
       "4                      easy                 medium  S08_set3_a4  \n",
       "5                      easy                   easy  S08_set3_a4  \n",
       "6                    medium                   easy  S08_set3_a4  \n",
       "7                    medium                 medium  S08_set3_a4  \n",
       "8                    medium                   easy  S08_set3_a4  \n",
       "9                    medium                 medium  S08_set3_a4  \n",
       "10                   medium                   easy  S08_set3_a4  \n",
       "11                   medium                 medium  S08_set3_a4  \n",
       "12                     hard                 medium  S08_set3_a4  \n",
       "13                     hard                 medium  S08_set3_a4  \n",
       "14                     hard                   hard  S08_set3_a4  \n",
       "15                     hard                   hard  S08_set3_a4  \n",
       "16                     hard                 medium  S08_set3_a4  \n",
       "17                     hard                   hard  S08_set3_a4  \n",
       "18                     easy                   easy  S08_set3_a4  \n",
       "19                     easy                 medium  S08_set3_a4  "
      ]
     },
     "execution_count": 3,
     "metadata": {},
     "output_type": "execute_result"
    }
   ],
   "source": [
    "df1.head(20)"
   ]
  },
  {
   "cell_type": "code",
   "execution_count": 4,
   "id": "particular-bonus",
   "metadata": {
    "execution": {
     "iopub.execute_input": "2021-06-26T07:39:18.111241Z",
     "iopub.status.busy": "2021-06-26T07:39:18.101652Z",
     "iopub.status.idle": "2021-06-26T07:39:18.125574Z",
     "shell.execute_reply": "2021-06-26T07:39:18.126616Z",
     "shell.execute_reply.started": "2021-06-26T07:16:00.856141Z"
    },
    "papermill": {
     "duration": 0.0472,
     "end_time": "2021-06-26T07:39:18.126939",
     "exception": false,
     "start_time": "2021-06-26T07:39:18.079739",
     "status": "completed"
    },
    "tags": []
   },
   "outputs": [
    {
     "name": "stdout",
     "output_type": "stream",
     "text": [
      "<class 'pandas.core.frame.DataFrame'>\n",
      "Int64Index: 3998 entries, 0 to 1457\n",
      "Data columns (total 6 columns):\n",
      " #   Column                    Non-Null Count  Dtype \n",
      "---  ------                    --------------  ----- \n",
      " 0   ArticleTitle              3998 non-null   object\n",
      " 1   Question                  3961 non-null   object\n",
      " 2   Answer                    3422 non-null   object\n",
      " 3   DifficultyFromQuestioner  3043 non-null   object\n",
      " 4   DifficultyFromAnswerer    3418 non-null   object\n",
      " 5   ArticleFile               3996 non-null   object\n",
      "dtypes: object(6)\n",
      "memory usage: 218.6+ KB\n"
     ]
    }
   ],
   "source": [
    "all_data = df1.append([df2, df3])\n",
    "all_data.info()"
   ]
  },
  {
   "cell_type": "code",
   "execution_count": 5,
   "id": "functioning-dispatch",
   "metadata": {
    "execution": {
     "iopub.execute_input": "2021-06-26T07:39:18.169502Z",
     "iopub.status.busy": "2021-06-26T07:39:18.168386Z",
     "iopub.status.idle": "2021-06-26T07:39:18.202072Z",
     "shell.execute_reply": "2021-06-26T07:39:18.201420Z",
     "shell.execute_reply.started": "2021-06-26T07:16:00.880612Z"
    },
    "papermill": {
     "duration": 0.05283,
     "end_time": "2021-06-26T07:39:18.202213",
     "exception": false,
     "start_time": "2021-06-26T07:39:18.149383",
     "status": "completed"
    },
    "tags": []
   },
   "outputs": [
    {
     "data": {
      "text/plain": [
       "(3998, 2)"
      ]
     },
     "execution_count": 5,
     "metadata": {},
     "output_type": "execute_result"
    }
   ],
   "source": [
    "all_data['Question'] = all_data['ArticleTitle'].str.replace('_', ' ') + ' ' + all_data['Question']\n",
    "all_data = all_data[['Question', 'Answer']]\n",
    "all_data.shape"
   ]
  },
  {
   "cell_type": "code",
   "execution_count": 6,
   "id": "retired-equipment",
   "metadata": {
    "execution": {
     "iopub.execute_input": "2021-06-26T07:39:18.241340Z",
     "iopub.status.busy": "2021-06-26T07:39:18.240375Z",
     "iopub.status.idle": "2021-06-26T07:39:18.245558Z",
     "shell.execute_reply": "2021-06-26T07:39:18.245076Z",
     "shell.execute_reply.started": "2021-06-26T07:35:58.011173Z"
    },
    "papermill": {
     "duration": 0.02747,
     "end_time": "2021-06-26T07:39:18.245694",
     "exception": false,
     "start_time": "2021-06-26T07:39:18.218224",
     "status": "completed"
    },
    "tags": []
   },
   "outputs": [
    {
     "data": {
      "text/plain": [
       "0    Abraham Lincoln Was Abraham Lincoln the sixtee...\n",
       "1    Abraham Lincoln Was Abraham Lincoln the sixtee...\n",
       "2    Abraham Lincoln Did Lincoln sign the National ...\n",
       "3    Abraham Lincoln Did Lincoln sign the National ...\n",
       "4     Abraham Lincoln Did his mother die of pneumonia?\n",
       "5     Abraham Lincoln Did his mother die of pneumonia?\n",
       "6    Abraham Lincoln How many long was Lincoln's fo...\n",
       "7    Abraham Lincoln How many long was Lincoln's fo...\n",
       "8    Abraham Lincoln When did Lincoln begin his pol...\n",
       "9    Abraham Lincoln When did Lincoln begin his pol...\n",
       "Name: Question, dtype: object"
      ]
     },
     "execution_count": 6,
     "metadata": {},
     "output_type": "execute_result"
    }
   ],
   "source": [
    "all_data.head(10)[\"Question\"]"
   ]
  },
  {
   "cell_type": "code",
   "execution_count": 7,
   "id": "whole-relations",
   "metadata": {
    "execution": {
     "iopub.execute_input": "2021-06-26T07:39:18.294021Z",
     "iopub.status.busy": "2021-06-26T07:39:18.287865Z",
     "iopub.status.idle": "2021-06-26T07:39:18.298674Z",
     "shell.execute_reply": "2021-06-26T07:39:18.298182Z",
     "shell.execute_reply.started": "2021-06-26T07:16:11.886562Z"
    },
    "papermill": {
     "duration": 0.035481,
     "end_time": "2021-06-26T07:39:18.298846",
     "exception": false,
     "start_time": "2021-06-26T07:39:18.263365",
     "status": "completed"
    },
    "tags": []
   },
   "outputs": [
    {
     "data": {
      "text/html": [
       "<div>\n",
       "<style scoped>\n",
       "    .dataframe tbody tr th:only-of-type {\n",
       "        vertical-align: middle;\n",
       "    }\n",
       "\n",
       "    .dataframe tbody tr th {\n",
       "        vertical-align: top;\n",
       "    }\n",
       "\n",
       "    .dataframe thead th {\n",
       "        text-align: right;\n",
       "    }\n",
       "</style>\n",
       "<table border=\"1\" class=\"dataframe\">\n",
       "  <thead>\n",
       "    <tr style=\"text-align: right;\">\n",
       "      <th></th>\n",
       "      <th>Question</th>\n",
       "      <th>Answer</th>\n",
       "    </tr>\n",
       "  </thead>\n",
       "  <tbody>\n",
       "    <tr>\n",
       "      <th>0</th>\n",
       "      <td>Abraham Lincoln Was Abraham Lincoln the sixtee...</td>\n",
       "      <td>yes</td>\n",
       "    </tr>\n",
       "    <tr>\n",
       "      <th>2</th>\n",
       "      <td>Abraham Lincoln Did Lincoln sign the National ...</td>\n",
       "      <td>yes</td>\n",
       "    </tr>\n",
       "    <tr>\n",
       "      <th>4</th>\n",
       "      <td>Abraham Lincoln Did his mother die of pneumonia?</td>\n",
       "      <td>no</td>\n",
       "    </tr>\n",
       "    <tr>\n",
       "      <th>6</th>\n",
       "      <td>Abraham Lincoln How many long was Lincoln's fo...</td>\n",
       "      <td>18 months</td>\n",
       "    </tr>\n",
       "    <tr>\n",
       "      <th>8</th>\n",
       "      <td>Abraham Lincoln When did Lincoln begin his pol...</td>\n",
       "      <td>1832</td>\n",
       "    </tr>\n",
       "    <tr>\n",
       "      <th>10</th>\n",
       "      <td>Abraham Lincoln What did The Legal Tender Act ...</td>\n",
       "      <td>the United States Note, the first paper curren...</td>\n",
       "    </tr>\n",
       "    <tr>\n",
       "      <th>12</th>\n",
       "      <td>Abraham Lincoln Who suggested Lincoln grow a b...</td>\n",
       "      <td>11-year-old Grace Bedell</td>\n",
       "    </tr>\n",
       "    <tr>\n",
       "      <th>14</th>\n",
       "      <td>Abraham Lincoln When did the Gettysburg addres...</td>\n",
       "      <td>1776</td>\n",
       "    </tr>\n",
       "    <tr>\n",
       "      <th>16</th>\n",
       "      <td>Abraham Lincoln Did Lincoln beat John C. Breck...</td>\n",
       "      <td>yes</td>\n",
       "    </tr>\n",
       "    <tr>\n",
       "      <th>18</th>\n",
       "      <td>Abraham Lincoln Was Abraham Lincoln the first ...</td>\n",
       "      <td>No</td>\n",
       "    </tr>\n",
       "  </tbody>\n",
       "</table>\n",
       "</div>"
      ],
      "text/plain": [
       "                                             Question  \\\n",
       "0   Abraham Lincoln Was Abraham Lincoln the sixtee...   \n",
       "2   Abraham Lincoln Did Lincoln sign the National ...   \n",
       "4    Abraham Lincoln Did his mother die of pneumonia?   \n",
       "6   Abraham Lincoln How many long was Lincoln's fo...   \n",
       "8   Abraham Lincoln When did Lincoln begin his pol...   \n",
       "10  Abraham Lincoln What did The Legal Tender Act ...   \n",
       "12  Abraham Lincoln Who suggested Lincoln grow a b...   \n",
       "14  Abraham Lincoln When did the Gettysburg addres...   \n",
       "16  Abraham Lincoln Did Lincoln beat John C. Breck...   \n",
       "18  Abraham Lincoln Was Abraham Lincoln the first ...   \n",
       "\n",
       "                                               Answer  \n",
       "0                                                 yes  \n",
       "2                                                 yes  \n",
       "4                                                  no  \n",
       "6                                           18 months  \n",
       "8                                                1832  \n",
       "10  the United States Note, the first paper curren...  \n",
       "12                           11-year-old Grace Bedell  \n",
       "14                                               1776  \n",
       "16                                                yes  \n",
       "18                                                 No  "
      ]
     },
     "execution_count": 7,
     "metadata": {},
     "output_type": "execute_result"
    }
   ],
   "source": [
    "all_data = all_data.drop_duplicates(subset='Question')\n",
    "all_data.head(10)"
   ]
  },
  {
   "cell_type": "code",
   "execution_count": 8,
   "id": "promising-reviewer",
   "metadata": {
    "execution": {
     "iopub.execute_input": "2021-06-26T07:39:18.337596Z",
     "iopub.status.busy": "2021-06-26T07:39:18.336940Z",
     "iopub.status.idle": "2021-06-26T07:39:18.340028Z",
     "shell.execute_reply": "2021-06-26T07:39:18.339414Z",
     "shell.execute_reply.started": "2021-06-26T07:16:12.169259Z"
    },
    "papermill": {
     "duration": 0.024478,
     "end_time": "2021-06-26T07:39:18.340161",
     "exception": false,
     "start_time": "2021-06-26T07:39:18.315683",
     "status": "completed"
    },
    "tags": []
   },
   "outputs": [
    {
     "data": {
      "text/plain": [
       "(2461, 2)"
      ]
     },
     "execution_count": 8,
     "metadata": {},
     "output_type": "execute_result"
    }
   ],
   "source": [
    "all_data.shape"
   ]
  },
  {
   "cell_type": "code",
   "execution_count": 9,
   "id": "figured-there",
   "metadata": {
    "execution": {
     "iopub.execute_input": "2021-06-26T07:39:18.381929Z",
     "iopub.status.busy": "2021-06-26T07:39:18.380573Z",
     "iopub.status.idle": "2021-06-26T07:39:18.386547Z",
     "shell.execute_reply": "2021-06-26T07:39:18.385902Z",
     "shell.execute_reply.started": "2021-06-26T07:16:12.317824Z"
    },
    "papermill": {
     "duration": 0.029363,
     "end_time": "2021-06-26T07:39:18.386689",
     "exception": false,
     "start_time": "2021-06-26T07:39:18.357326",
     "status": "completed"
    },
    "tags": []
   },
   "outputs": [
    {
     "data": {
      "text/plain": [
       "(2188, 2)"
      ]
     },
     "execution_count": 9,
     "metadata": {},
     "output_type": "execute_result"
    }
   ],
   "source": [
    "all_data = all_data.dropna()\n",
    "all_data.shape"
   ]
  },
  {
   "cell_type": "code",
   "execution_count": 10,
   "id": "removed-recipe",
   "metadata": {
    "execution": {
     "iopub.execute_input": "2021-06-26T07:39:18.431354Z",
     "iopub.status.busy": "2021-06-26T07:39:18.430641Z",
     "iopub.status.idle": "2021-06-26T07:39:18.439053Z",
     "shell.execute_reply": "2021-06-26T07:39:18.439591Z",
     "shell.execute_reply.started": "2021-06-26T07:16:12.552444Z"
    },
    "papermill": {
     "duration": 0.035496,
     "end_time": "2021-06-26T07:39:18.439768",
     "exception": false,
     "start_time": "2021-06-26T07:39:18.404272",
     "status": "completed"
    },
    "tags": []
   },
   "outputs": [],
   "source": [
    "stopwords_list = stopwords.words('english')\n",
    "\n",
    "lemmatizer = WordNetLemmatizer()\n",
    "\n",
    "def my_tokenizer(doc):\n",
    "    words = word_tokenize(doc)\n",
    "    \n",
    "    pos_tags = pos_tag(words)\n",
    "    \n",
    "    non_stopwords = [w for w in pos_tags if not w[0].lower() in stopwords_list]\n",
    "    \n",
    "    non_punctuation = [w for w in non_stopwords if not w[0] in string.punctuation]\n",
    "    \n",
    "    lemmas = []\n",
    "    for w in non_punctuation:\n",
    "        if w[1].startswith('J'):\n",
    "            pos = wordnet.ADJ\n",
    "        elif w[1].startswith('V'):\n",
    "            pos = wordnet.VERB\n",
    "        elif w[1].startswith('N'):\n",
    "            pos = wordnet.NOUN\n",
    "        elif w[1].startswith('R'):\n",
    "            pos = wordnet.ADV\n",
    "        else:\n",
    "            pos = wordnet.NOUN\n",
    "        \n",
    "        lemmas.append(lemmatizer.lemmatize(w[0], pos))\n",
    "\n",
    "    return lemmas"
   ]
  },
  {
   "cell_type": "code",
   "execution_count": 11,
   "id": "regular-solomon",
   "metadata": {
    "execution": {
     "iopub.execute_input": "2021-06-26T07:39:18.478336Z",
     "iopub.status.busy": "2021-06-26T07:39:18.477651Z",
     "iopub.status.idle": "2021-06-26T07:39:23.097302Z",
     "shell.execute_reply": "2021-06-26T07:39:23.097779Z",
     "shell.execute_reply.started": "2021-06-26T07:16:12.695213Z"
    },
    "papermill": {
     "duration": 4.640327,
     "end_time": "2021-06-26T07:39:23.097978",
     "exception": false,
     "start_time": "2021-06-26T07:39:18.457651",
     "status": "completed"
    },
    "tags": []
   },
   "outputs": [
    {
     "name": "stdout",
     "output_type": "stream",
     "text": [
      "(2188, 3558)\n"
     ]
    }
   ],
   "source": [
    "tfidf_vectorizer = TfidfVectorizer(tokenizer=my_tokenizer)\n",
    "tfidf_matrix = tfidf_vectorizer.fit_transform(tuple(all_data['Question']))\n",
    "print(tfidf_matrix.shape)"
   ]
  },
  {
   "cell_type": "code",
   "execution_count": 12,
   "id": "radio-nebraska",
   "metadata": {
    "execution": {
     "iopub.execute_input": "2021-06-26T07:39:23.140667Z",
     "iopub.status.busy": "2021-06-26T07:39:23.139692Z",
     "iopub.status.idle": "2021-06-26T07:39:23.142943Z",
     "shell.execute_reply": "2021-06-26T07:39:23.142433Z",
     "shell.execute_reply.started": "2021-06-26T07:16:17.408757Z"
    },
    "papermill": {
     "duration": 0.027237,
     "end_time": "2021-06-26T07:39:23.143081",
     "exception": false,
     "start_time": "2021-06-26T07:39:23.115844",
     "status": "completed"
    },
    "tags": []
   },
   "outputs": [],
   "source": [
    "def ask_question(question):\n",
    "    query_vect = tfidf_vectorizer.transform([question])\n",
    "    similarity = cosine_similarity(query_vect, tfidf_matrix)\n",
    "    max_similarity = np.argmax(similarity, axis=None)\n",
    "    \n",
    "    print('Your question:', question)\n",
    "    print('Closest question found:', all_data.iloc[max_similarity]['Question'])\n",
    "    print('Similarity: {:.2%}'.format(similarity[0, max_similarity]))\n",
    "    print('Answer:', all_data.iloc[max_similarity]['Answer'])"
   ]
  },
  {
   "cell_type": "code",
   "execution_count": 13,
   "id": "dominican-enforcement",
   "metadata": {
    "execution": {
     "iopub.execute_input": "2021-06-26T07:39:23.186250Z",
     "iopub.status.busy": "2021-06-26T07:39:23.185582Z",
     "iopub.status.idle": "2021-06-26T07:39:23.192272Z",
     "shell.execute_reply": "2021-06-26T07:39:23.191697Z",
     "shell.execute_reply.started": "2021-06-26T07:16:17.420296Z"
    },
    "papermill": {
     "duration": 0.031562,
     "end_time": "2021-06-26T07:39:23.192410",
     "exception": false,
     "start_time": "2021-06-26T07:39:23.160848",
     "status": "completed"
    },
    "tags": []
   },
   "outputs": [
    {
     "name": "stdout",
     "output_type": "stream",
     "text": [
      "Your question: When Abraham Lincoln started his political career\n",
      "Closest question found: Abraham Lincoln Did Lincoln start his political career in 1832?\n",
      "Similarity: 88.14%\n",
      "Answer: Yes\n"
     ]
    }
   ],
   "source": [
    "ask_question('When Abraham Lincoln started his political career')"
   ]
  },
  {
   "cell_type": "code",
   "execution_count": 14,
   "id": "sorted-asian",
   "metadata": {
    "execution": {
     "iopub.execute_input": "2021-06-26T07:39:23.235276Z",
     "iopub.status.busy": "2021-06-26T07:39:23.234630Z",
     "iopub.status.idle": "2021-06-26T07:39:23.240960Z",
     "shell.execute_reply": "2021-06-26T07:39:23.241595Z",
     "shell.execute_reply.started": "2021-06-26T07:16:17.444500Z"
    },
    "papermill": {
     "duration": 0.031206,
     "end_time": "2021-06-26T07:39:23.241847",
     "exception": false,
     "start_time": "2021-06-26T07:39:23.210641",
     "status": "completed"
    },
    "tags": []
   },
   "outputs": [
    {
     "name": "stdout",
     "output_type": "stream",
     "text": [
      "Your question: Where was Nicola Tesla born\n",
      "Closest question found: Abraham Lincoln Which county was Lincoln born in?\n",
      "Similarity: 40.56%\n",
      "Answer: Hardin County\n"
     ]
    }
   ],
   "source": [
    "ask_question('Where was Nicola Tesla born')"
   ]
  },
  {
   "cell_type": "code",
   "execution_count": 15,
   "id": "legendary-recycling",
   "metadata": {
    "execution": {
     "iopub.execute_input": "2021-06-26T07:39:23.285133Z",
     "iopub.status.busy": "2021-06-26T07:39:23.284310Z",
     "iopub.status.idle": "2021-06-26T07:39:23.291476Z",
     "shell.execute_reply": "2021-06-26T07:39:23.292145Z",
     "shell.execute_reply.started": "2021-06-26T07:16:17.464030Z"
    },
    "papermill": {
     "duration": 0.031587,
     "end_time": "2021-06-26T07:39:23.292393",
     "exception": false,
     "start_time": "2021-06-26T07:39:23.260806",
     "status": "completed"
    },
    "tags": []
   },
   "outputs": [
    {
     "name": "stdout",
     "output_type": "stream",
     "text": [
      "Your question: Can whales fly\n",
      "Closest question found: Otter Do sea otters have a layer of fat like whales?\n",
      "Similarity: 32.08%\n",
      "Answer: No\n"
     ]
    }
   ],
   "source": [
    "ask_question('Can whales fly')"
   ]
  },
  {
   "cell_type": "code",
   "execution_count": 16,
   "id": "structured-porter",
   "metadata": {
    "execution": {
     "iopub.execute_input": "2021-06-26T07:39:23.338600Z",
     "iopub.status.busy": "2021-06-26T07:39:23.336524Z",
     "iopub.status.idle": "2021-06-26T07:39:23.342670Z",
     "shell.execute_reply": "2021-06-26T07:39:23.343143Z",
     "shell.execute_reply.started": "2021-06-26T07:36:41.126644Z"
    },
    "papermill": {
     "duration": 0.031759,
     "end_time": "2021-06-26T07:39:23.343334",
     "exception": false,
     "start_time": "2021-06-26T07:39:23.311575",
     "status": "completed"
    },
    "tags": []
   },
   "outputs": [
    {
     "name": "stdout",
     "output_type": "stream",
     "text": [
      "Your question: Was Alessandro Volta taught in public schools?\n",
      "Closest question found: Alessandro Volta Was Volta taught in public schools?\n",
      "Similarity: 95.94%\n",
      "Answer: yes\n"
     ]
    }
   ],
   "source": [
    "ask_question('Was Alessandro Volta taught in public schools?')"
   ]
  },
  {
   "cell_type": "code",
   "execution_count": 17,
   "id": "intended-cookie",
   "metadata": {
    "execution": {
     "iopub.execute_input": "2021-06-26T07:39:23.388438Z",
     "iopub.status.busy": "2021-06-26T07:39:23.387339Z",
     "iopub.status.idle": "2021-06-26T07:39:23.394783Z",
     "shell.execute_reply": "2021-06-26T07:39:23.395454Z",
     "shell.execute_reply.started": "2021-06-26T07:16:17.491857Z"
    },
    "papermill": {
     "duration": 0.033302,
     "end_time": "2021-06-26T07:39:23.395678",
     "exception": false,
     "start_time": "2021-06-26T07:39:23.362376",
     "status": "completed"
    },
    "tags": []
   },
   "outputs": [
    {
     "name": "stdout",
     "output_type": "stream",
     "text": [
      "Your question: How high are crime rates in Brazil\n",
      "Closest question found: Saint Petersburg When did the crime level become higher?\n",
      "Similarity: 51.49%\n",
      "Answer: After the October revolution.\n"
     ]
    }
   ],
   "source": [
    "ask_question('How high are crime rates in Brazil')"
   ]
  }
 ],
 "metadata": {
  "kernelspec": {
   "display_name": "Python 3",
   "language": "python",
   "name": "python3"
  },
  "language_info": {
   "codemirror_mode": {
    "name": "ipython",
    "version": 3
   },
   "file_extension": ".py",
   "mimetype": "text/x-python",
   "name": "python",
   "nbconvert_exporter": "python",
   "pygments_lexer": "ipython3",
   "version": "3.7.9"
  },
  "papermill": {
   "default_parameters": {},
   "duration": 14.461449,
   "end_time": "2021-06-26T07:39:24.326208",
   "environment_variables": {},
   "exception": null,
   "input_path": "__notebook__.ipynb",
   "output_path": "__notebook__.ipynb",
   "parameters": {},
   "start_time": "2021-06-26T07:39:09.864759",
   "version": "2.3.2"
  }
 },
 "nbformat": 4,
 "nbformat_minor": 5
}
